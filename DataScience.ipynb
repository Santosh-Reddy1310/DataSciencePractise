{
  "metadata": {
    "kernelspec": {
      "name": "python",
      "display_name": "Python (Pyodide)",
      "language": "python"
    },
    "language_info": {
      "codemirror_mode": {
        "name": "python",
        "version": 3
      },
      "file_extension": ".py",
      "mimetype": "text/x-python",
      "name": "python",
      "nbconvert_exporter": "python",
      "pygments_lexer": "ipython3",
      "version": "3.8"
    }
  },
  "nbformat_minor": 5,
  "nbformat": 4,
  "cells": [
    {
      "id": "bbaaa224-1bfe-41f7-b93d-cde51e652cb0",
      "cell_type": "markdown",
      "source": "# Data Science Tools and Ecosystem",
      "metadata": {}
    },
    {
      "id": "cf48c430-73ce-48c6-82fd-65d7dbbdb237",
      "cell_type": "markdown",
      "source": "## Introduction\nIn this notebook, we will explore various tools, languages, and libraries that are commonly used in the field of Data Science. We will also demonstrate some basic arithmetic operations using Python.\n",
      "metadata": {}
    },
    {
      "id": "24717abb-f593-4386-9fdb-30961fb97559",
      "cell_type": "markdown",
      "source": "## Popular Languages for Data Science\n- Python  \n- R  \n- SQL  \n- Julia  \n- Scala  \n- Java  \n- MATLAB\n",
      "metadata": {}
    },
    {
      "id": "871c0a98-9d98-4982-8668-0c37cdab59fb",
      "cell_type": "markdown",
      "source": "## Commonly Used Libraries in Data Science\n- NumPy  \n- Pandas  \n- Matplotlib  \n- Scikit-learn  \n- TensorFlow  \n- Keras  \n- Seaborn\n",
      "metadata": {}
    },
    {
      "id": "4ed91918-f24c-4f16-b872-e19e2e5d0c29",
      "cell_type": "markdown",
      "source": "## Data Science Tools\n\n| Tool            | Description                     |\n|-----------------|---------------------------------|\n| Jupyter Notebook| Interactive coding environment  |\n| RStudio         | IDE for R programming           |\n| Apache Spark    | Big data processing framework   |\n| TensorFlow      | Machine learning framework      |\n| Tableau         | Data visualization tool         |\n",
      "metadata": {}
    },
    {
      "id": "e722df35-16c9-4297-9f08-a8ef325bf25e",
      "cell_type": "markdown",
      "source": "## Examples of Arithmetic Expressions in Python\nBelow we show how to perform basic arithmetic operations like addition and multiplication.\n",
      "metadata": {}
    },
    {
      "id": "09f0c75f-2b9d-44bd-b76b-63ac136c4b17",
      "cell_type": "code",
      "source": "# This expression multiplies 3 and 4, then adds 5\nresult = (3 * 4) + 5\nprint(\"Result:\", result)\n",
      "metadata": {
        "trusted": true
      },
      "outputs": [
        {
          "name": "stdout",
          "output_type": "stream",
          "text": "Result: 17\n"
        }
      ],
      "execution_count": 1
    },
    {
      "id": "8723894a-9a2d-445f-826f-6b1cde3dc041",
      "cell_type": "code",
      "source": "# This will convert 200 minutes into hours\nminutes = 200\nhours = minutes / 60\nprint(\"Hours:\", hours)\n",
      "metadata": {
        "trusted": true
      },
      "outputs": [
        {
          "name": "stdout",
          "output_type": "stream",
          "text": "Hours: 3.3333333333333335\n"
        }
      ],
      "execution_count": 2
    },
    {
      "id": "d13edc2f-fbcb-4f9e-8857-2083913e6f70",
      "cell_type": "markdown",
      "source": "## Objectives\n- Learn about Data Science languages and libraries  \n- Understand basic arithmetic operations in Python  \n- Explore data science tools  \n- Practice markdown formatting  \n- Share notebook via GitHub\n",
      "metadata": {}
    },
    {
      "id": "3dca7a12-fa17-4e1c-9610-5bae907655da",
      "cell_type": "markdown",
      "source": "## Author\nReddy Santosh Kumar\n",
      "metadata": {}
    },
    {
      "id": "991b8a39-ded3-402a-8e6f-2843d7765f4e",
      "cell_type": "code",
      "source": "",
      "metadata": {
        "trusted": true
      },
      "outputs": [],
      "execution_count": null
    }
  ]
}